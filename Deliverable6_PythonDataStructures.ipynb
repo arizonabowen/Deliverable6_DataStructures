{
  "nbformat": 4,
  "nbformat_minor": 0,
  "metadata": {
    "colab": {
      "provenance": []
    },
    "kernelspec": {
      "name": "python3",
      "display_name": "Python 3"
    },
    "language_info": {
      "name": "python"
    }
  },
  "cells": [
    {
      "cell_type": "code",
      "execution_count": 1,
      "metadata": {
        "colab": {
          "base_uri": "https://localhost:8080/"
        },
        "id": "20oS0_zQV8L7",
        "outputId": "248561ca-aec0-4ea9-8765-894f6cd372b1"
      },
      "outputs": [
        {
          "output_type": "stream",
          "name": "stdout",
          "text": [
            "         sepal_length  sepal_width  petal_length  petal_width  sepal_sum  \\\n",
            "feature                                                                    \n",
            "mean         5.843333     3.057333      3.758000     1.199333   8.900667   \n",
            "std          0.828066     0.435866      1.765298     0.762238   0.889272   \n",
            "min          4.300000     2.000000      1.000000     0.100000   6.800000   \n",
            "max          7.900000     4.400000      6.900000     2.500000  11.700000   \n",
            "\n",
            "         petal_sum  \n",
            "feature             \n",
            "mean      4.957333  \n",
            "std       2.507689  \n",
            "min       1.200000  \n",
            "max       9.200000  \n"
          ]
        }
      ],
      "source": [
        "# Author: Jacquelyn Bowen\n",
        "# Date: 03/24/2023\n",
        "# Description: Python code to manipulate the iris dataset\n",
        "\n",
        "import pandas as pd\n",
        "import numpy as np\n",
        "import seaborn as sns\n",
        "\n",
        "# Load iris dataset\n",
        "iris = sns.load_dataset('iris')\n",
        "\n",
        "# Drop 'species' column\n",
        "iris = iris.drop('species', axis=1)\n",
        "\n",
        "# Add 'sepal_sum' and 'petal_sum' columns\n",
        "iris['sepal_sum'] = iris['sepal_length'] + iris['sepal_width']\n",
        "iris['petal_sum'] = iris['petal_length'] + iris['petal_width']\n",
        "\n",
        "# Compute summary statistics\n",
        "summary = pd.DataFrame\n",
        "({\n",
        "    'mean': iris.mean(),\n",
        "    'std': iris.std(),\n",
        "    'min': iris.min(),\n",
        "    'max': iris.max()\n",
        "})\n",
        "\n",
        "# Transpose summary statistics\n",
        "summary = summary.transpose()\n",
        "\n",
        "# Set the index name to 'feature'\n",
        "summary.index.name = 'feature'\n",
        "\n",
        "# Display summary\n",
        "print(summary)"
      ]
    }
  ]
}